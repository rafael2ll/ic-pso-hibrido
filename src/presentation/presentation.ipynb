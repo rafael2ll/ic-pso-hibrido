{
 "cells": [
  {
   "cell_type": "markdown",
   "metadata": {
    "slideshow": {
     "slide_type": "slide"
    }
   },
   "source": [
    "# *Aplicação de PSO Híbrido* :\n",
    "#                   *Caixeiro Viajante*"
   ]
  },
  {
   "cell_type": "markdown",
   "metadata": {
    "slideshow": {
     "slide_type": "slide"
    }
   },
   "source": [
    "## *Overview*"
   ]
  },
  {
   "cell_type": "markdown",
   "metadata": {
    "slideshow": {
     "slide_type": "subslide"
    }
   },
   "source": [
    "### PSO Hibrido + Fator Genético"
   ]
  },
  {
   "cell_type": "markdown",
   "metadata": {
    "slideshow": {
     "slide_type": "subslide"
    }
   },
   "source": [
    "* **Posição da Partícula:** Uma rota válida\n",
    "* **Velocidade:** N par de trocas simples entre elementos da rota\n",
    "* **Fator Genético**: Cada partícula tem 50% de chance de desencadear evento genético que substitui os 2 piores elementos do enxame por 2 partículas da próxima geração\n",
    "    - **Seleção dos pais:** GENITOR\n",
    "    - **Cross-over**: Order Cross-over (OX1)\n",
    "    - **Sem mutação**"
   ]
  },
  {
   "cell_type": "markdown",
   "metadata": {
    "slideshow": {
     "slide_type": "slide"
    }
   },
   "source": [
    "### Partícula"
   ]
  },
  {
   "cell_type": "code",
   "execution_count": 1,
   "metadata": {
    "slideshow": {
     "slide_type": "subslide"
    }
   },
   "outputs": [],
   "source": [
    "import numpy as np\n",
    "class DParticle:\n",
    "    def __init__(self, path: np.array):\n",
    "        self.position = path\n",
    "        self.combination_count = np.random.randint(len(path) * (len(path) - 1)) + 1\n",
    "        self.velocity = np.random.randint(len(path), size=(self.combination_count, 2))\n",
    "        self.best_position = np.copy(self.position)\n",
    "        self.best_path_len = np.inf\n",
    "\n",
    "    def __repr__(self):\n",
    "        return self.__str__()\n"
   ]
  },
  {
   "cell_type": "markdown",
   "metadata": {
    "slideshow": {
     "slide_type": "slide"
    }
   },
   "source": [
    "### Fit"
   ]
  },
  {
   "cell_type": "code",
   "execution_count": 2,
   "metadata": {
    "slideshow": {
     "slide_type": "subslide"
    }
   },
   "outputs": [],
   "source": [
    "def fit(path, problem):\n",
    "    cyclic_path = np.hstack((path, np.array([path[0]])))\n",
    "    return sum(problem.get_weight(a, b) for a, b in zip(cyclic_path[0:], cyclic_path[1:]))"
   ]
  },
  {
   "cell_type": "markdown",
   "metadata": {
    "slideshow": {
     "slide_type": "slide"
    }
   },
   "source": [
    "### Atualização"
   ]
  },
  {
   "cell_type": "code",
   "execution_count": 3,
   "metadata": {
    "slideshow": {
     "slide_type": "subslide"
    }
   },
   "outputs": [],
   "source": [
    "def discrete_velocity(particle: DParticle):\n",
    "    return random.choices(particle.velocity, k=np.random.randint(len(particle.position)))"
   ]
  },
  {
   "cell_type": "markdown",
   "metadata": {
    "slideshow": {
     "slide_type": "slide"
    }
   },
   "source": [
    "### Algoritmo PSO Discreto Híbrido"
   ]
  },
  {
   "cell_type": "code",
   "execution_count": 4,
   "metadata": {
    "slideshow": {
     "slide_type": "subslide"
    }
   },
   "outputs": [],
   "source": [
    "def submit(self, iterations=1000):\n",
    "    for i in range(iterations):\n",
    "        for particle in self.particles:\n",
    "            distance = fit(particle.position, self.problem)\n",
    "            logger.debug(f\"Distance: {distance}\\t Path:{particle.position}\\tV:{particle.velocity}\")\n",
    "\n",
    "            # Is it the best particle distance so far?\n",
    "            if distance < particle.best_path_len:\n",
    "                particle.best_position = np.copy(particle.position)\n",
    "                particle.best_path_len = distance\n",
    "                # May be the best global distance as well?\n",
    "                if distance < self.best_path:\n",
    "                    self.best_path = distance\n",
    "                    self.best_path_pos = np.copy(particle.position)\n",
    "                    logger.info(f\"Best distance: {self.best_path}\\tBest Path:{self.best_path_pos}\")\n",
    "            # Adjust position\n",
    "            velocity = discrete_velocity(particle)\n",
    "            adjust_discrete_position(particle, velocity)\n",
    "\n",
    "            # Adding genetic vector\n",
    "            if random.random() <= 0.5:\n",
    "                parents = self.parent_extractor.extract_parent(problem=self.problem, population=self.particles)\n",
    "                offspring = self.crossover.cross(parents, 2, self.problem)\n",
    "                self.particles.extend(DParticle(off) for off in offspring)\n",
    "                natural_select(problem=self.problem, population=self.particles, die=len(offspring))"
   ]
  },
  {
   "cell_type": "markdown",
   "metadata": {
    "slideshow": {
     "slide_type": "subslide"
    }
   },
   "source": [
    "### Auxiliares"
   ]
  },
  {
   "cell_type": "code",
   "execution_count": 5,
   "metadata": {
    "slideshow": {
     "slide_type": "fragment"
    }
   },
   "outputs": [],
   "source": [
    "# Realiza as trocas entre posições, similar a mutação SIM\n",
    "def adjust_discrete_position(particle, velocity):\n",
    "    for exchange in velocity:\n",
    "        tmp = np.copy(particle.position[exchange[0]])\n",
    "        particle.position[exchange[0]] = particle.position[exchange[1]]\n",
    "        particle.position[exchange[1]] = tmp"
   ]
  },
  {
   "cell_type": "markdown",
   "metadata": {
    "slideshow": {
     "slide_type": "slide"
    }
   },
   "source": [
    "## Resultados"
   ]
  },
  {
   "cell_type": "code",
   "execution_count": 6,
   "metadata": {
    "slideshow": {
     "slide_type": "subslide"
    }
   },
   "outputs": [
    {
     "data": {
      "text/html": [
       "<div>\n",
       "<style scoped>\n",
       "    .dataframe tbody tr th:only-of-type {\n",
       "        vertical-align: middle;\n",
       "    }\n",
       "\n",
       "    .dataframe tbody tr th {\n",
       "        vertical-align: top;\n",
       "    }\n",
       "\n",
       "    .dataframe thead th {\n",
       "        text-align: right;\n",
       "    }\n",
       "</style>\n",
       "<table border=\"1\" class=\"dataframe\">\n",
       "  <thead>\n",
       "    <tr style=\"text-align: right;\">\n",
       "      <th></th>\n",
       "      <th>algoritmo</th>\n",
       "      <th>problem</th>\n",
       "      <th>mean</th>\n",
       "      <th>min</th>\n",
       "    </tr>\n",
       "  </thead>\n",
       "  <tbody>\n",
       "    <tr>\n",
       "      <th>0</th>\n",
       "      <td>Ideal</td>\n",
       "      <td>24</td>\n",
       "      <td>-</td>\n",
       "      <td>1272</td>\n",
       "    </tr>\n",
       "    <tr>\n",
       "      <th>1</th>\n",
       "      <td>AG Sugerido</td>\n",
       "      <td>24</td>\n",
       "      <td>1331</td>\n",
       "      <td>1272</td>\n",
       "    </tr>\n",
       "    <tr>\n",
       "      <th>2</th>\n",
       "      <td>AG Desenvolvido</td>\n",
       "      <td>24</td>\n",
       "      <td>-</td>\n",
       "      <td>1300</td>\n",
       "    </tr>\n",
       "    <tr>\n",
       "      <th>3</th>\n",
       "      <td>DPSO Hibrido</td>\n",
       "      <td>24</td>\n",
       "      <td>1471.5</td>\n",
       "      <td>1307</td>\n",
       "    </tr>\n",
       "    <tr>\n",
       "      <th>4</th>\n",
       "      <td>PSO Discreto</td>\n",
       "      <td>24</td>\n",
       "      <td>2125.6</td>\n",
       "      <td>1813</td>\n",
       "    </tr>\n",
       "    <tr>\n",
       "      <th>5</th>\n",
       "      <td>PSO Continuo</td>\n",
       "      <td>24</td>\n",
       "      <td>2148.3</td>\n",
       "      <td>2021</td>\n",
       "    </tr>\n",
       "    <tr>\n",
       "      <th>6</th>\n",
       "      <td>-</td>\n",
       "      <td>-</td>\n",
       "      <td>-</td>\n",
       "      <td>-</td>\n",
       "    </tr>\n",
       "    <tr>\n",
       "      <th>7</th>\n",
       "      <td>Ideal</td>\n",
       "      <td>48</td>\n",
       "      <td>-</td>\n",
       "      <td>5046</td>\n",
       "    </tr>\n",
       "    <tr>\n",
       "      <th>8</th>\n",
       "      <td>AG Sugerido</td>\n",
       "      <td>48</td>\n",
       "      <td>5533</td>\n",
       "      <td>5080</td>\n",
       "    </tr>\n",
       "    <tr>\n",
       "      <th>9</th>\n",
       "      <td>AG Desenvolvido</td>\n",
       "      <td>48</td>\n",
       "      <td>-</td>\n",
       "      <td>6893</td>\n",
       "    </tr>\n",
       "    <tr>\n",
       "      <th>10</th>\n",
       "      <td>DPSO Hibrido</td>\n",
       "      <td>48</td>\n",
       "      <td>7924.3</td>\n",
       "      <td>7293</td>\n",
       "    </tr>\n",
       "    <tr>\n",
       "      <th>11</th>\n",
       "      <td>PSO Continuo</td>\n",
       "      <td>48</td>\n",
       "      <td>15801</td>\n",
       "      <td>14630</td>\n",
       "    </tr>\n",
       "    <tr>\n",
       "      <th>12</th>\n",
       "      <td>PSO Discreto</td>\n",
       "      <td>48</td>\n",
       "      <td>16074</td>\n",
       "      <td>15422</td>\n",
       "    </tr>\n",
       "  </tbody>\n",
       "</table>\n",
       "</div>"
      ],
      "text/plain": [
       "          algoritmo problem    mean    min\n",
       "0             Ideal      24       -   1272\n",
       "1       AG Sugerido      24    1331   1272\n",
       "2   AG Desenvolvido      24       -   1300\n",
       "3      DPSO Hibrido      24  1471.5   1307\n",
       "4      PSO Discreto      24  2125.6   1813\n",
       "5      PSO Continuo      24  2148.3   2021\n",
       "6                 -       -       -      -\n",
       "7             Ideal      48       -   5046\n",
       "8       AG Sugerido      48    5533   5080\n",
       "9   AG Desenvolvido      48       -   6893\n",
       "10     DPSO Hibrido      48  7924.3   7293\n",
       "11     PSO Continuo      48   15801  14630\n",
       "12     PSO Discreto      48   16074  15422"
      ]
     },
     "execution_count": 6,
     "metadata": {},
     "output_type": "execute_result"
    }
   ],
   "source": [
    "import pandas as pd\n",
    "pd.read_csv(\"benchmark.csv\")"
   ]
  },
  {
   "cell_type": "markdown",
   "metadata": {
    "slideshow": {
     "slide_type": "slide"
    }
   },
   "source": [
    "## Referências"
   ]
  },
  {
   "cell_type": "markdown",
   "metadata": {
    "slideshow": {
     "slide_type": "subslide"
    }
   },
   "source": [
    "*[1]* PARTICLE  SWARM OPTIMIZATION FOR SOLVING CONSTRAINT SATISFACTION PROBLEMS,Lin., https://core.ac.uk/download/pdf/56374467.pdf"
   ]
  }
 ],
 "metadata": {
  "celltoolbar": "Slideshow",
  "kernelspec": {
   "display_name": "Python 3",
   "language": "python",
   "name": "python3"
  },
  "language_info": {
   "codemirror_mode": {
    "name": "ipython",
    "version": 3
   },
   "file_extension": ".py",
   "mimetype": "text/x-python",
   "name": "python",
   "nbconvert_exporter": "python",
   "pygments_lexer": "ipython3",
   "version": "3.8.3"
  }
 },
 "nbformat": 4,
 "nbformat_minor": 4
}
